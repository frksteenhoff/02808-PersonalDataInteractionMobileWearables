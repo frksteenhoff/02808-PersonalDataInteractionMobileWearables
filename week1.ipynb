{
 "cells": [
  {
   "cell_type": "markdown",
   "metadata": {},
   "source": [
    "# Week 1\n",
    "\n",
    "----"
   ]
  },
  {
   "cell_type": "markdown",
   "metadata": {},
   "source": [
    "## Assignment 1\n",
    "### Description\n",
    "\n",
    "* Identify phenomena you care about, that can be self-tracked\n",
    "* Describe a Personal Informatics System that would help track and reflect on data related to the phenomena.\n",
    "\n",
    "How to track, what typeof data, how much (frequency), instrumentation used, how to analyze data, how to visualize.\n",
    "\n",
    "Possibly use InVision to show results from app/wearable\n",
    "\n",
    "Describe 5 stages, only one pdf file.\n",
    "\n",
    "Prepare to present the idea."
   ]
  },
  {
   "cell_type": "markdown",
   "metadata": {},
   "source": [
    "### Suggestions\n",
    "*Use tracking (quntifying yourself) together with additional parameters to say something more about the user's behaviour that will encourage a change based on the new insight.*\n",
    "\n",
    "#### *Wearables*\n",
    "* **Hydration app**, relying on steps, heart rate and exposure to sunlight to calculate heat stress and give advice about how to keep hydrated\n",
    "\n",
    "#### *Mobile applications*\n",
    "* .."
   ]
  },
  {
   "cell_type": "markdown",
   "metadata": {},
   "source": [
    "### Further description \n",
    "#### HeatStressPrevent (wearable) \n",
    "\n",
    "Support\n",
    "* Active tracking (this is what the focus should be on, this is quantifying)\n",
    "* Manual input (if I am walking for x hours, how much water should I drink/bring)\n",
    "\n",
    "Input from user\n",
    "* Age, weight, height, activity level (activity level extracted from wearables as distance based on steps) \n",
    "* Temperature tracked based on user's location\n",
    "* Notifications if longer periods of time without drinking water or taking breaks.\n",
    "* User data sent to database checked against productivity level (some corporate measure)\n",
    "\n",
    "\n",
    "Features (where the active tracking makes the experience better)\n",
    "* Alarms if strain is increased\n",
    "* \n",
    "\n",
    "Links\n",
    "* [Water for Walk Calculator](https://www.verywell.com/walking-water-calculator-3860943)\n",
    "* [Hydration Calculator](http://www.h4hinitiative.com/tools/hydration-calculator)"
   ]
  },
  {
   "cell_type": "markdown",
   "metadata": {},
   "source": [
    "### Chosen solution\n",
    "\n"
   ]
  },
  {
   "cell_type": "code",
   "execution_count": null,
   "metadata": {
    "collapsed": true
   },
   "outputs": [],
   "source": []
  }
 ],
 "metadata": {
  "anaconda-cloud": {},
  "kernelspec": {
   "display_name": "Python [Root]",
   "language": "python",
   "name": "Python [Root]"
  },
  "language_info": {
   "codemirror_mode": {
    "name": "ipython",
    "version": 2
   },
   "file_extension": ".py",
   "mimetype": "text/x-python",
   "name": "python",
   "nbconvert_exporter": "python",
   "pygments_lexer": "ipython2",
   "version": "2.7.12"
  }
 },
 "nbformat": 4,
 "nbformat_minor": 2
}
